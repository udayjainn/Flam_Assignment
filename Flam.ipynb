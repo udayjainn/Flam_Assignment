{
  "nbformat": 4,
  "nbformat_minor": 0,
  "metadata": {
    "colab": {
      "provenance": [],
      "gpuType": "T4"
    },
    "kernelspec": {
      "name": "python3",
      "display_name": "Python 3"
    },
    "language_info": {
      "name": "python"
    },
    "accelerator": "GPU"
  },
  "cells": [
    {
      "cell_type": "code",
      "execution_count": null,
      "metadata": {
        "id": "LE5fq13UNgkE"
      },
      "outputs": [],
      "source": [
        "from google.colab import drive\n",
        "drive.mount('/content/drive')"
      ]
    },
    {
      "cell_type": "code",
      "source": [
        "!pip install ultralytics -q\n",
        "!pip install pyyaml -q"
      ],
      "metadata": {
        "id": "mE4P5NkAWFrP",
        "outputId": "796eac61-4184-4f4d-f018-4d5a72ba4b2b",
        "colab": {
          "base_uri": "https://localhost:8080/"
        }
      },
      "execution_count": 2,
      "outputs": [
        {
          "output_type": "stream",
          "name": "stdout",
          "text": [
            "\u001b[?25l     \u001b[90m━━━━━━━━━━━━━━━━━━━━━━━━━━━━━━━━━━━━━━━━\u001b[0m \u001b[32m0.0/614.2 kB\u001b[0m \u001b[31m?\u001b[0m eta \u001b[36m-:--:--\u001b[0m\r\u001b[2K     \u001b[91m━━━━━━━━━━\u001b[0m\u001b[90m╺\u001b[0m\u001b[90m━━━━━━━━━━━━━━━━━━━━━━━━━━━━\u001b[0m \u001b[32m163.8/614.2 kB\u001b[0m \u001b[31m5.1 MB/s\u001b[0m eta \u001b[36m0:00:01\u001b[0m\r\u001b[2K     \u001b[91m━━━━━━━━━━━━━━━━━━━━━━━━━━━━━━━━━━━━━━\u001b[0m\u001b[90m╺\u001b[0m \u001b[32m604.2/614.2 kB\u001b[0m \u001b[31m9.3 MB/s\u001b[0m eta \u001b[36m0:00:01\u001b[0m\r\u001b[2K     \u001b[90m━━━━━━━━━━━━━━━━━━━━━━━━━━━━━━━━━━━━━━━\u001b[0m \u001b[32m614.2/614.2 kB\u001b[0m \u001b[31m8.3 MB/s\u001b[0m eta \u001b[36m0:00:00\u001b[0m\n",
            "\u001b[?25h"
          ]
        }
      ]
    },
    {
      "cell_type": "code",
      "source": [
        "from ultralytics import YOLO\n",
        "import yaml\n",
        "import cv2\n",
        "from google.colab.patches import cv2_imshow"
      ],
      "metadata": {
        "id": "cO8U4fLqP6ll"
      },
      "execution_count": 3,
      "outputs": []
    },
    {
      "cell_type": "code",
      "source": [
        "model = YOLO(\"yolov8n.pt\")"
      ],
      "metadata": {
        "colab": {
          "base_uri": "https://localhost:8080/"
        },
        "id": "IolQd4qDQB9L",
        "outputId": "7220d5a6-5bda-4c66-d8ab-c04b077b303f"
      },
      "execution_count": 4,
      "outputs": [
        {
          "output_type": "stream",
          "name": "stderr",
          "text": [
            "Downloading https://github.com/ultralytics/assets/releases/download/v0.0.0/yolov8n.pt to 'yolov8n.pt'...\n",
            "100%|██████████| 6.23M/6.23M [00:00<00:00, 192MB/s]\n"
          ]
        }
      ]
    },
    {
      "cell_type": "code",
      "source": [
        "model.predict(\"/content/drive/MyDrive/FamAssignment/IMG_0774.JPG\" , save = True , save_txt = True)"
      ],
      "metadata": {
        "colab": {
          "base_uri": "https://localhost:8080/"
        },
        "id": "1Fm7qVXiQFRR",
        "outputId": "7ff48658-34a5-4696-9e82-1e20d1b1b030"
      },
      "execution_count": 5,
      "outputs": [
        {
          "output_type": "stream",
          "name": "stderr",
          "text": [
            "\n",
            "image 1/1 /content/drive/MyDrive/FamAssignment/IMG_0774.JPG: 448x640 2 persons, 105.9ms\n",
            "Speed: 16.8ms preprocess, 105.9ms inference, 36.3ms postprocess per image at shape (1, 3, 448, 640)\n",
            "Results saved to \u001b[1mruns/detect/predict\u001b[0m\n",
            "1 label saved to runs/detect/predict/labels\n"
          ]
        },
        {
          "output_type": "execute_result",
          "data": {
            "text/plain": [
              "[ultralytics.engine.results.Results object with attributes:\n",
              " \n",
              " boxes: ultralytics.engine.results.Boxes object\n",
              " keypoints: None\n",
              " masks: None\n",
              " names: {0: 'person', 1: 'bicycle', 2: 'car', 3: 'motorcycle', 4: 'airplane', 5: 'bus', 6: 'train', 7: 'truck', 8: 'boat', 9: 'traffic light', 10: 'fire hydrant', 11: 'stop sign', 12: 'parking meter', 13: 'bench', 14: 'bird', 15: 'cat', 16: 'dog', 17: 'horse', 18: 'sheep', 19: 'cow', 20: 'elephant', 21: 'bear', 22: 'zebra', 23: 'giraffe', 24: 'backpack', 25: 'umbrella', 26: 'handbag', 27: 'tie', 28: 'suitcase', 29: 'frisbee', 30: 'skis', 31: 'snowboard', 32: 'sports ball', 33: 'kite', 34: 'baseball bat', 35: 'baseball glove', 36: 'skateboard', 37: 'surfboard', 38: 'tennis racket', 39: 'bottle', 40: 'wine glass', 41: 'cup', 42: 'fork', 43: 'knife', 44: 'spoon', 45: 'bowl', 46: 'banana', 47: 'apple', 48: 'sandwich', 49: 'orange', 50: 'broccoli', 51: 'carrot', 52: 'hot dog', 53: 'pizza', 54: 'donut', 55: 'cake', 56: 'chair', 57: 'couch', 58: 'potted plant', 59: 'bed', 60: 'dining table', 61: 'toilet', 62: 'tv', 63: 'laptop', 64: 'mouse', 65: 'remote', 66: 'keyboard', 67: 'cell phone', 68: 'microwave', 69: 'oven', 70: 'toaster', 71: 'sink', 72: 'refrigerator', 73: 'book', 74: 'clock', 75: 'vase', 76: 'scissors', 77: 'teddy bear', 78: 'hair drier', 79: 'toothbrush'}\n",
              " orig_img: array([[[120, 139, 152],\n",
              "         [119, 138, 151],\n",
              "         [122, 139, 152],\n",
              "         ...,\n",
              "         [197, 193, 199],\n",
              "         [196, 192, 198],\n",
              "         [196, 192, 198]],\n",
              " \n",
              "        [[119, 138, 151],\n",
              "         [121, 140, 153],\n",
              "         [125, 142, 155],\n",
              "         ...,\n",
              "         [197, 193, 199],\n",
              "         [197, 193, 199],\n",
              "         [196, 192, 198]],\n",
              " \n",
              "        [[120, 137, 150],\n",
              "         [124, 141, 154],\n",
              "         [128, 145, 158],\n",
              "         ...,\n",
              "         [197, 193, 198],\n",
              "         [197, 193, 199],\n",
              "         [197, 193, 199]],\n",
              " \n",
              "        ...,\n",
              " \n",
              "        [[ 18,  24,  31],\n",
              "         [ 18,  24,  31],\n",
              "         [ 18,  24,  31],\n",
              "         ...,\n",
              "         [ 25,  34,  47],\n",
              "         [ 27,  36,  49],\n",
              "         [ 30,  39,  52]],\n",
              " \n",
              "        [[ 18,  24,  29],\n",
              "         [ 18,  24,  29],\n",
              "         [ 18,  24,  31],\n",
              "         ...,\n",
              "         [ 21,  30,  40],\n",
              "         [ 21,  29,  42],\n",
              "         [ 23,  31,  44]],\n",
              " \n",
              "        [[ 18,  24,  29],\n",
              "         [ 18,  24,  29],\n",
              "         [ 18,  24,  31],\n",
              "         ...,\n",
              "         [ 24,  33,  43],\n",
              "         [ 23,  31,  44],\n",
              "         [ 24,  32,  45]]], dtype=uint8)\n",
              " orig_shape: (4160, 6240)\n",
              " path: '/content/drive/MyDrive/FamAssignment/IMG_0774.JPG'\n",
              " probs: None\n",
              " save_dir: 'runs/detect/predict'\n",
              " speed: {'preprocess': 16.80612564086914, 'inference': 105.90934753417969, 'postprocess': 36.34786605834961}]"
            ]
          },
          "metadata": {},
          "execution_count": 5
        }
      ]
    },
    {
      "cell_type": "code",
      "source": [
        "model.predict(\"/content/drive/MyDrive/FamAssignment/IMG_0837.JPG\" , save = True , save_txt = True)"
      ],
      "metadata": {
        "colab": {
          "base_uri": "https://localhost:8080/"
        },
        "id": "xYLmrRwQSIlc",
        "outputId": "383e9c5d-ef97-4f21-fca2-eaf1b3f43fee"
      },
      "execution_count": 6,
      "outputs": [
        {
          "output_type": "stream",
          "name": "stderr",
          "text": [
            "\n",
            "image 1/1 /content/drive/MyDrive/FamAssignment/IMG_0837.JPG: 448x640 3 persons, 1 chair, 1 couch, 6.3ms\n",
            "Speed: 3.8ms preprocess, 6.3ms inference, 1.2ms postprocess per image at shape (1, 3, 448, 640)\n",
            "Results saved to \u001b[1mruns/detect/predict\u001b[0m\n",
            "2 labels saved to runs/detect/predict/labels\n"
          ]
        },
        {
          "output_type": "execute_result",
          "data": {
            "text/plain": [
              "[ultralytics.engine.results.Results object with attributes:\n",
              " \n",
              " boxes: ultralytics.engine.results.Boxes object\n",
              " keypoints: None\n",
              " masks: None\n",
              " names: {0: 'person', 1: 'bicycle', 2: 'car', 3: 'motorcycle', 4: 'airplane', 5: 'bus', 6: 'train', 7: 'truck', 8: 'boat', 9: 'traffic light', 10: 'fire hydrant', 11: 'stop sign', 12: 'parking meter', 13: 'bench', 14: 'bird', 15: 'cat', 16: 'dog', 17: 'horse', 18: 'sheep', 19: 'cow', 20: 'elephant', 21: 'bear', 22: 'zebra', 23: 'giraffe', 24: 'backpack', 25: 'umbrella', 26: 'handbag', 27: 'tie', 28: 'suitcase', 29: 'frisbee', 30: 'skis', 31: 'snowboard', 32: 'sports ball', 33: 'kite', 34: 'baseball bat', 35: 'baseball glove', 36: 'skateboard', 37: 'surfboard', 38: 'tennis racket', 39: 'bottle', 40: 'wine glass', 41: 'cup', 42: 'fork', 43: 'knife', 44: 'spoon', 45: 'bowl', 46: 'banana', 47: 'apple', 48: 'sandwich', 49: 'orange', 50: 'broccoli', 51: 'carrot', 52: 'hot dog', 53: 'pizza', 54: 'donut', 55: 'cake', 56: 'chair', 57: 'couch', 58: 'potted plant', 59: 'bed', 60: 'dining table', 61: 'toilet', 62: 'tv', 63: 'laptop', 64: 'mouse', 65: 'remote', 66: 'keyboard', 67: 'cell phone', 68: 'microwave', 69: 'oven', 70: 'toaster', 71: 'sink', 72: 'refrigerator', 73: 'book', 74: 'clock', 75: 'vase', 76: 'scissors', 77: 'teddy bear', 78: 'hair drier', 79: 'toothbrush'}\n",
              " orig_img: array([[[108, 108, 108],\n",
              "         [112, 112, 112],\n",
              "         [113, 115, 115],\n",
              "         ...,\n",
              "         [135, 140, 141],\n",
              "         [131, 136, 137],\n",
              "         [132, 137, 138]],\n",
              " \n",
              "        [[108, 108, 108],\n",
              "         [110, 110, 110],\n",
              "         [111, 113, 113],\n",
              "         ...,\n",
              "         [135, 140, 141],\n",
              "         [133, 138, 139],\n",
              "         [132, 137, 138]],\n",
              " \n",
              "        [[109, 111, 111],\n",
              "         [110, 112, 112],\n",
              "         [112, 114, 114],\n",
              "         ...,\n",
              "         [136, 141, 144],\n",
              "         [137, 142, 145],\n",
              "         [133, 138, 141]],\n",
              " \n",
              "        ...,\n",
              " \n",
              "        [[ 21,  27,  34],\n",
              "         [ 20,  26,  31],\n",
              "         [ 20,  26,  31],\n",
              "         ...,\n",
              "         [ 43,  59,  72],\n",
              "         [ 44,  60,  73],\n",
              "         [ 44,  60,  73]],\n",
              " \n",
              "        [[ 20,  26,  31],\n",
              "         [ 19,  25,  30],\n",
              "         [ 20,  26,  31],\n",
              "         ...,\n",
              "         [ 43,  59,  72],\n",
              "         [ 44,  60,  73],\n",
              "         [ 44,  60,  73]],\n",
              " \n",
              "        [[ 20,  26,  31],\n",
              "         [ 19,  25,  30],\n",
              "         [ 19,  26,  29],\n",
              "         ...,\n",
              "         [ 42,  58,  71],\n",
              "         [ 44,  60,  73],\n",
              "         [ 45,  61,  74]]], dtype=uint8)\n",
              " orig_shape: (4160, 6240)\n",
              " path: '/content/drive/MyDrive/FamAssignment/IMG_0837.JPG'\n",
              " probs: None\n",
              " save_dir: 'runs/detect/predict'\n",
              " speed: {'preprocess': 3.7598609924316406, 'inference': 6.337404251098633, 'postprocess': 1.245737075805664}]"
            ]
          },
          "metadata": {},
          "execution_count": 6
        }
      ]
    },
    {
      "cell_type": "code",
      "source": [
        "model.predict(\"/content/drive/MyDrive/FamAssignment/IMG_0788.JPG\" , save = True , save_txt = True)"
      ],
      "metadata": {
        "id": "jI_Oj4gBUWYF",
        "outputId": "dbd7d2f6-9ccc-4482-e51a-1af4baed799d",
        "colab": {
          "base_uri": "https://localhost:8080/"
        }
      },
      "execution_count": 7,
      "outputs": [
        {
          "output_type": "stream",
          "name": "stderr",
          "text": [
            "\n",
            "image 1/1 /content/drive/MyDrive/FamAssignment/IMG_0788.JPG: 640x448 1 person, 73.6ms\n",
            "Speed: 3.4ms preprocess, 73.6ms inference, 1.4ms postprocess per image at shape (1, 3, 640, 448)\n",
            "Results saved to \u001b[1mruns/detect/predict\u001b[0m\n",
            "3 labels saved to runs/detect/predict/labels\n"
          ]
        },
        {
          "output_type": "execute_result",
          "data": {
            "text/plain": [
              "[ultralytics.engine.results.Results object with attributes:\n",
              " \n",
              " boxes: ultralytics.engine.results.Boxes object\n",
              " keypoints: None\n",
              " masks: None\n",
              " names: {0: 'person', 1: 'bicycle', 2: 'car', 3: 'motorcycle', 4: 'airplane', 5: 'bus', 6: 'train', 7: 'truck', 8: 'boat', 9: 'traffic light', 10: 'fire hydrant', 11: 'stop sign', 12: 'parking meter', 13: 'bench', 14: 'bird', 15: 'cat', 16: 'dog', 17: 'horse', 18: 'sheep', 19: 'cow', 20: 'elephant', 21: 'bear', 22: 'zebra', 23: 'giraffe', 24: 'backpack', 25: 'umbrella', 26: 'handbag', 27: 'tie', 28: 'suitcase', 29: 'frisbee', 30: 'skis', 31: 'snowboard', 32: 'sports ball', 33: 'kite', 34: 'baseball bat', 35: 'baseball glove', 36: 'skateboard', 37: 'surfboard', 38: 'tennis racket', 39: 'bottle', 40: 'wine glass', 41: 'cup', 42: 'fork', 43: 'knife', 44: 'spoon', 45: 'bowl', 46: 'banana', 47: 'apple', 48: 'sandwich', 49: 'orange', 50: 'broccoli', 51: 'carrot', 52: 'hot dog', 53: 'pizza', 54: 'donut', 55: 'cake', 56: 'chair', 57: 'couch', 58: 'potted plant', 59: 'bed', 60: 'dining table', 61: 'toilet', 62: 'tv', 63: 'laptop', 64: 'mouse', 65: 'remote', 66: 'keyboard', 67: 'cell phone', 68: 'microwave', 69: 'oven', 70: 'toaster', 71: 'sink', 72: 'refrigerator', 73: 'book', 74: 'clock', 75: 'vase', 76: 'scissors', 77: 'teddy bear', 78: 'hair drier', 79: 'toothbrush'}\n",
              " orig_img: array([[[128, 144, 151],\n",
              "         [134, 150, 157],\n",
              "         [137, 149, 159],\n",
              "         ...,\n",
              "         [132, 151, 159],\n",
              "         [132, 151, 159],\n",
              "         [131, 150, 158]],\n",
              " \n",
              "        [[129, 145, 152],\n",
              "         [130, 146, 153],\n",
              "         [130, 142, 152],\n",
              "         ...,\n",
              "         [136, 155, 163],\n",
              "         [134, 153, 161],\n",
              "         [132, 151, 159]],\n",
              " \n",
              "        [[125, 141, 148],\n",
              "         [128, 144, 151],\n",
              "         [130, 142, 152],\n",
              "         ...,\n",
              "         [137, 156, 163],\n",
              "         [135, 154, 161],\n",
              "         [135, 154, 161]],\n",
              " \n",
              "        ...,\n",
              " \n",
              "        [[ 22,  33,  53],\n",
              "         [ 23,  34,  54],\n",
              "         [ 24,  35,  55],\n",
              "         ...,\n",
              "         [ 34,  45,  65],\n",
              "         [ 32,  46,  65],\n",
              "         [ 33,  47,  66]],\n",
              " \n",
              "        [[ 22,  33,  53],\n",
              "         [ 23,  34,  54],\n",
              "         [ 24,  35,  55],\n",
              "         ...,\n",
              "         [ 32,  46,  65],\n",
              "         [ 33,  47,  66],\n",
              "         [ 34,  48,  67]],\n",
              " \n",
              "        [[ 24,  35,  55],\n",
              "         [ 24,  35,  55],\n",
              "         [ 23,  34,  54],\n",
              "         ...,\n",
              "         [ 32,  46,  65],\n",
              "         [ 33,  47,  66],\n",
              "         [ 35,  49,  68]]], dtype=uint8)\n",
              " orig_shape: (6240, 4160)\n",
              " path: '/content/drive/MyDrive/FamAssignment/IMG_0788.JPG'\n",
              " probs: None\n",
              " save_dir: 'runs/detect/predict'\n",
              " speed: {'preprocess': 3.4372806549072266, 'inference': 73.61507415771484, 'postprocess': 1.41143798828125}]"
            ]
          },
          "metadata": {},
          "execution_count": 7
        }
      ]
    },
    {
      "cell_type": "code",
      "source": [
        "model.predict(\"/content/drive/MyDrive/FamAssignment/IMG_0842.JPG\" , save = True , save_txt = True)"
      ],
      "metadata": {
        "id": "FMCP-wneVxz0",
        "outputId": "1d6b552b-05f2-46e1-9cda-1e972f7260d3",
        "colab": {
          "base_uri": "https://localhost:8080/"
        }
      },
      "execution_count": 8,
      "outputs": [
        {
          "output_type": "stream",
          "name": "stderr",
          "text": [
            "\n",
            "image 1/1 /content/drive/MyDrive/FamAssignment/IMG_0842.JPG: 448x640 2 persons, 1 bench, 1 chair, 1 couch, 6.9ms\n",
            "Speed: 3.7ms preprocess, 6.9ms inference, 1.3ms postprocess per image at shape (1, 3, 448, 640)\n",
            "Results saved to \u001b[1mruns/detect/predict\u001b[0m\n",
            "4 labels saved to runs/detect/predict/labels\n"
          ]
        },
        {
          "output_type": "execute_result",
          "data": {
            "text/plain": [
              "[ultralytics.engine.results.Results object with attributes:\n",
              " \n",
              " boxes: ultralytics.engine.results.Boxes object\n",
              " keypoints: None\n",
              " masks: None\n",
              " names: {0: 'person', 1: 'bicycle', 2: 'car', 3: 'motorcycle', 4: 'airplane', 5: 'bus', 6: 'train', 7: 'truck', 8: 'boat', 9: 'traffic light', 10: 'fire hydrant', 11: 'stop sign', 12: 'parking meter', 13: 'bench', 14: 'bird', 15: 'cat', 16: 'dog', 17: 'horse', 18: 'sheep', 19: 'cow', 20: 'elephant', 21: 'bear', 22: 'zebra', 23: 'giraffe', 24: 'backpack', 25: 'umbrella', 26: 'handbag', 27: 'tie', 28: 'suitcase', 29: 'frisbee', 30: 'skis', 31: 'snowboard', 32: 'sports ball', 33: 'kite', 34: 'baseball bat', 35: 'baseball glove', 36: 'skateboard', 37: 'surfboard', 38: 'tennis racket', 39: 'bottle', 40: 'wine glass', 41: 'cup', 42: 'fork', 43: 'knife', 44: 'spoon', 45: 'bowl', 46: 'banana', 47: 'apple', 48: 'sandwich', 49: 'orange', 50: 'broccoli', 51: 'carrot', 52: 'hot dog', 53: 'pizza', 54: 'donut', 55: 'cake', 56: 'chair', 57: 'couch', 58: 'potted plant', 59: 'bed', 60: 'dining table', 61: 'toilet', 62: 'tv', 63: 'laptop', 64: 'mouse', 65: 'remote', 66: 'keyboard', 67: 'cell phone', 68: 'microwave', 69: 'oven', 70: 'toaster', 71: 'sink', 72: 'refrigerator', 73: 'book', 74: 'clock', 75: 'vase', 76: 'scissors', 77: 'teddy bear', 78: 'hair drier', 79: 'toothbrush'}\n",
              " orig_img: array([[[119, 120, 118],\n",
              "         [116, 117, 115],\n",
              "         [113, 114, 112],\n",
              "         ...,\n",
              "         [103, 107, 112],\n",
              "         [102, 106, 111],\n",
              "         [103, 107, 112]],\n",
              " \n",
              "        [[118, 119, 117],\n",
              "         [116, 117, 115],\n",
              "         [115, 116, 114],\n",
              "         ...,\n",
              "         [101, 105, 110],\n",
              "         [101, 105, 110],\n",
              "         [104, 108, 113]],\n",
              " \n",
              "        [[117, 118, 116],\n",
              "         [117, 118, 116],\n",
              "         [117, 118, 116],\n",
              "         ...,\n",
              "         [103, 108, 111],\n",
              "         [102, 107, 110],\n",
              "         [103, 108, 111]],\n",
              " \n",
              "        ...,\n",
              " \n",
              "        [[ 22,  24,  34],\n",
              "         [ 21,  23,  33],\n",
              "         [ 18,  23,  32],\n",
              "         ...,\n",
              "         [ 24,  38,  56],\n",
              "         [ 27,  41,  59],\n",
              "         [ 29,  43,  61]],\n",
              " \n",
              "        [[ 22,  24,  34],\n",
              "         [ 21,  23,  33],\n",
              "         [ 18,  23,  32],\n",
              "         ...,\n",
              "         [ 22,  37,  56],\n",
              "         [ 24,  40,  57],\n",
              "         [ 27,  43,  60]],\n",
              " \n",
              "        [[ 21,  23,  33],\n",
              "         [ 20,  22,  32],\n",
              "         [ 18,  23,  32],\n",
              "         ...,\n",
              "         [ 22,  37,  56],\n",
              "         [ 22,  38,  55],\n",
              "         [ 23,  39,  56]]], dtype=uint8)\n",
              " orig_shape: (4160, 6240)\n",
              " path: '/content/drive/MyDrive/FamAssignment/IMG_0842.JPG'\n",
              " probs: None\n",
              " save_dir: 'runs/detect/predict'\n",
              " speed: {'preprocess': 3.672361373901367, 'inference': 6.93821907043457, 'postprocess': 1.3456344604492188}]"
            ]
          },
          "metadata": {},
          "execution_count": 8
        }
      ]
    },
    {
      "cell_type": "code",
      "source": [
        "model.predict(\"/content/drive/MyDrive/FamAssignment/IMG_0853.JPG\" , save = True , save_txt = True)"
      ],
      "metadata": {
        "id": "_J_no1r3YgD3",
        "outputId": "f7c2b794-8082-4bff-9e34-7fb90112244b",
        "colab": {
          "base_uri": "https://localhost:8080/"
        }
      },
      "execution_count": 9,
      "outputs": [
        {
          "output_type": "stream",
          "name": "stderr",
          "text": [
            "\n",
            "image 1/1 /content/drive/MyDrive/FamAssignment/IMG_0853.JPG: 448x640 1 person, 1 chair, 1 couch, 6.4ms\n",
            "Speed: 3.1ms preprocess, 6.4ms inference, 1.4ms postprocess per image at shape (1, 3, 448, 640)\n",
            "Results saved to \u001b[1mruns/detect/predict\u001b[0m\n",
            "5 labels saved to runs/detect/predict/labels\n"
          ]
        },
        {
          "output_type": "execute_result",
          "data": {
            "text/plain": [
              "[ultralytics.engine.results.Results object with attributes:\n",
              " \n",
              " boxes: ultralytics.engine.results.Boxes object\n",
              " keypoints: None\n",
              " masks: None\n",
              " names: {0: 'person', 1: 'bicycle', 2: 'car', 3: 'motorcycle', 4: 'airplane', 5: 'bus', 6: 'train', 7: 'truck', 8: 'boat', 9: 'traffic light', 10: 'fire hydrant', 11: 'stop sign', 12: 'parking meter', 13: 'bench', 14: 'bird', 15: 'cat', 16: 'dog', 17: 'horse', 18: 'sheep', 19: 'cow', 20: 'elephant', 21: 'bear', 22: 'zebra', 23: 'giraffe', 24: 'backpack', 25: 'umbrella', 26: 'handbag', 27: 'tie', 28: 'suitcase', 29: 'frisbee', 30: 'skis', 31: 'snowboard', 32: 'sports ball', 33: 'kite', 34: 'baseball bat', 35: 'baseball glove', 36: 'skateboard', 37: 'surfboard', 38: 'tennis racket', 39: 'bottle', 40: 'wine glass', 41: 'cup', 42: 'fork', 43: 'knife', 44: 'spoon', 45: 'bowl', 46: 'banana', 47: 'apple', 48: 'sandwich', 49: 'orange', 50: 'broccoli', 51: 'carrot', 52: 'hot dog', 53: 'pizza', 54: 'donut', 55: 'cake', 56: 'chair', 57: 'couch', 58: 'potted plant', 59: 'bed', 60: 'dining table', 61: 'toilet', 62: 'tv', 63: 'laptop', 64: 'mouse', 65: 'remote', 66: 'keyboard', 67: 'cell phone', 68: 'microwave', 69: 'oven', 70: 'toaster', 71: 'sink', 72: 'refrigerator', 73: 'book', 74: 'clock', 75: 'vase', 76: 'scissors', 77: 'teddy bear', 78: 'hair drier', 79: 'toothbrush'}\n",
              " orig_img: array([[[115, 118, 116],\n",
              "         [114, 117, 115],\n",
              "         [115, 118, 116],\n",
              "         ...,\n",
              "         [151, 156, 159],\n",
              "         [150, 155, 158],\n",
              "         [151, 156, 159]],\n",
              " \n",
              "        [[115, 118, 116],\n",
              "         [116, 119, 117],\n",
              "         [117, 120, 118],\n",
              "         ...,\n",
              "         [153, 158, 161],\n",
              "         [152, 157, 160],\n",
              "         [153, 158, 161]],\n",
              " \n",
              "        [[116, 119, 117],\n",
              "         [119, 122, 120],\n",
              "         [120, 123, 121],\n",
              "         ...,\n",
              "         [154, 159, 162],\n",
              "         [154, 159, 162],\n",
              "         [154, 159, 162]],\n",
              " \n",
              "        ...,\n",
              " \n",
              "        [[ 24,  30,  35],\n",
              "         [ 25,  31,  36],\n",
              "         [ 28,  34,  41],\n",
              "         ...,\n",
              "         [ 38,  48,  58],\n",
              "         [ 35,  46,  54],\n",
              "         [ 34,  45,  53]],\n",
              " \n",
              "        [[ 24,  30,  35],\n",
              "         [ 26,  32,  37],\n",
              "         [ 30,  36,  41],\n",
              "         ...,\n",
              "         [ 42,  51,  60],\n",
              "         [ 39,  48,  57],\n",
              "         [ 37,  46,  55]],\n",
              " \n",
              "        [[ 28,  34,  39],\n",
              "         [ 29,  35,  40],\n",
              "         [ 32,  38,  43],\n",
              "         ...,\n",
              "         [ 43,  52,  61],\n",
              "         [ 40,  49,  58],\n",
              "         [ 39,  48,  57]]], dtype=uint8)\n",
              " orig_shape: (4160, 6240)\n",
              " path: '/content/drive/MyDrive/FamAssignment/IMG_0853.JPG'\n",
              " probs: None\n",
              " save_dir: 'runs/detect/predict'\n",
              " speed: {'preprocess': 3.126859664916992, 'inference': 6.407976150512695, 'postprocess': 1.3780593872070312}]"
            ]
          },
          "metadata": {},
          "execution_count": 9
        }
      ]
    }
  ]
}